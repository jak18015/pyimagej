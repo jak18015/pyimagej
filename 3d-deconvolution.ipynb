{
 "cells": [
  {
   "cell_type": "code",
   "execution_count": null,
   "id": "5786db4a",
   "metadata": {},
   "outputs": [
    {
     "name": "stdout",
     "output_type": "stream",
     "text": [
      "ImageJ2 version: 2.16.0\n"
     ]
    }
   ],
   "source": [
    "import imagej\n",
    "import matplotlib.pyplot as plt\n",
    "import scyjava as sj\n",
    "import numpy as np\n",
    "import os\n",
    "\n",
    "sj.config.add_option('-Xmx6g')\n",
    "ij = imagej.init(add_legacy=False)\n",
    "print(f\"ImageJ2 version: {ij.getVersion()}\")\n",
    "\n",
    "# import imagej2 and imglib2 Java classes\n",
    "CreateNamespace = imagej.sj.jimport('net.imagej.ops.create.CreateNamespace')\n",
    "FinalDimensions = imagej.sj.jimport('net.imglib2.FinalDimensions')\n",
    "FloatType = imagej.sj.jimport('net.imglib2.type.numeric.real.FloatType')\n",
    "Views = sj.jimport('net.imglib2.view.Views')"
   ]
  },
  {
   "cell_type": "code",
   "execution_count": 349,
   "id": "eca03d7e",
   "metadata": {},
   "outputs": [
    {
     "name": "stdout",
     "output_type": "stream",
     "text": [
      "Cores            : 10\n",
      "Total memory     : 16.0 GB\n",
      "Available memory : 4.5\n"
     ]
    }
   ],
   "source": [
    "import psutil\n",
    "print(f'Cores            : {psutil.cpu_count(logical=False)}') # Physical CPU count\n",
    "print(f'Total memory     : {psutil.virtual_memory().total / (1024 ** 3)} GB') # Total memory in gigabytes\n",
    "print(f'Available memory : {np.round(psutil.virtual_memory().available / (1024 ** 3),1)}') # Available memory in gigabytes"
   ]
  },
  {
   "cell_type": "code",
   "execution_count": 303,
   "id": "26df46d7",
   "metadata": {},
   "outputs": [],
   "source": [
    "def deconvolve(img, wv, iterations, reg, na, ri_sample, ri_immersion, lat_res, ax_res, pz):\n",
    "    \"\"\"\n",
    "    Deconvolve a 3D image using the Richardson-Lucy algorithm with total variation regularization.\n",
    "\n",
    "    Parameters\n",
    "    ----------\n",
    "    img : numpy.ndarray\n",
    "        The input image to be deconvolved.\n",
    "    wv : float\n",
    "        The emission wavelength in nanometers.\n",
    "    iterations : int\n",
    "        The number of iterations for the Richardson-Lucy algorithm.\n",
    "    reg : float\n",
    "        The regularization factor for total variation.\n",
    "    na : float\n",
    "        The numerical aperture of the objective lens.\n",
    "    ri_sample : float\n",
    "        The refractive index of the sample.\n",
    "    ri_immersion : float\n",
    "        The refractive index of the immersion medium.\n",
    "    lat_res : float\n",
    "        The lateral resolution in micrometers.\n",
    "    ax_res : float\n",
    "        The axial resolution in micrometers.\n",
    "    pz : float\n",
    "        The distance from the coverslip in micrometers.\n",
    "\n",
    "    Returns\n",
    "    -------\n",
    "    numpy.ndarray\n",
    "        The deconvolved image.\n",
    "    \"\"\"\n",
    "\n",
    "    # convert input image to imglib2 ImagePlus\n",
    "    img_f = ij.py.to_java(img)\n",
    "   # convert input parameters into meters\n",
    "    wv = wv * 1E-9\n",
    "    lat_res = lat_res * 1E-6\n",
    "    ax_res = ax_res * 1E-6\n",
    "    pz = pz * 1E-6\n",
    "   \n",
    "   # convert the input image dimensions to imglib2 FinalDimensions\n",
    "    psf_dims = FinalDimensions(img.shape)\n",
    "\n",
    "    # create synthetic PSF\n",
    "    psf = ij.op().namespace(CreateNamespace).kernelDiffraction(\n",
    "        psf_dims, na, wv, ri_sample, ri_immersion, lat_res, ax_res, pz, FloatType())\n",
    "\n",
    "    img_decon = ij.op().deconvolve().richardsonLucyTV(img_f, psf, iterations, reg)\n",
    "\n",
    "    return img_decon"
   ]
  },
  {
   "cell_type": "code",
   "execution_count": 332,
   "id": "cdb7d66b",
   "metadata": {},
   "outputs": [
    {
     "name": "stdout",
     "output_type": "stream",
     "text": [
      "20hpi_extra-01-slice-8\n"
     ]
    }
   ],
   "source": [
    "wd = '/Users/jkellerm/Library/CloudStorage/OneDrive-MichiganMedicine/0-active-projects/merozoite/2025-05-13_merozoite-pretreat/prj/'\n",
    "img_list = os.listdir(wd)\n",
    "img_list = [f for f in img_list if f.endswith('.tif')]\n",
    "img_list.sort()\n",
    "\n",
    "print(img_list[0][:-4])"
   ]
  },
  {
   "cell_type": "code",
   "execution_count": null,
   "id": "bf891689",
   "metadata": {},
   "outputs": [],
   "source": [
    "\n",
    "\n",
    "# open the image\n",
    "img = ij.io().open('20hpi_extra-06-slice-8.tif')\n",
    "img = ij.op().convert().float32(img)  # convert to 32-bit\n",
    "\n",
    "decon_slices = []  # list to hold deconvolved slices\n",
    "\n",
    "# set the iterations and regularization factor for Richardson-Lucy TV\n",
    "iterations = 20\n",
    "reg = 0.002\n",
    "na = 1.4 # numerical aperture\n",
    "wavelength = [617, 508, 461, 550] # emission wavelength\n",
    "ri_immersion = 1.5 # refractive index (immersion)\n",
    "ri_sample = 1.4 # refractive index (sample)\n",
    "lat_res = 0.07 # lateral resolution (i.e. xy)\n",
    "ax_res = 0.24 # axial resolution (i.e. z)\n",
    "pz = 0 # distance away from coverslip\n",
    "\n",
    "for i in range(img.shape[2]):\n",
    "    slice_img = img[:, :, i]\n",
    "    wv = wavelength[i]\n",
    "    img_decon = deconvolve(slice_img, wv, iterations, reg, na, ri_sample, ri_immersion, lat_res, ax_res, pz)\n",
    "    decon_slices.append(img_decon)  # accumulate slices\n",
    "\n",
    "# Now stack all slices at once\n",
    "img_decon = Views.stack(decon_slices)\n",
    "\n",
    "ximg = ij.py.from_java(img)\n",
    "ximg_decon = ij.py.from_java(img_decon)\n",
    "\n",
    "# Create a figure with 8 subplots\n",
    "fig, ax = plt.subplots(2, 4, figsize=(12, 9))\n",
    "\n",
    "# Plot the original image channels\n",
    "for i in range(ximg.shape[0]):\n",
    "    ax[0,i].imshow(ximg[i,:,:], cmap='gray')\n",
    "    ax[0,i].set_title(f\"Original Channel {i+1}\")\n",
    "    ax[0,i].axis('off')\n",
    "    ax[1,i].imshow(ximg_decon[i,:,:], cmap='gray')\n",
    "    ax[1,i].set_title(f\"Deconvolved Channel {i+1}\")\n",
    "    ax[1,i].axis('off')\n",
    "\n",
    "# Adjust layout and display the plot\n",
    "plt.tight_layout()\n",
    "plt.show()"
   ]
  },
  {
   "cell_type": "code",
   "execution_count": 326,
   "id": "064c678f",
   "metadata": {},
   "outputs": [],
   "source": [
    "img_decon = ij.py.to_dataset(ximg_decon, dim_order=['ch', 'row', 'col'])\n",
    "\n",
    "if (os.path.exists('deconvolved_image.tif')):\n",
    "    os.remove('deconvolved_image.tif')\n",
    "ij.io().save(img_decon, 'deconvolved_image.tif')"
   ]
  }
 ],
 "metadata": {
  "kernelspec": {
   "display_name": "pyimagej",
   "language": "python",
   "name": "python3"
  },
  "language_info": {
   "codemirror_mode": {
    "name": "ipython",
    "version": 3
   },
   "file_extension": ".py",
   "mimetype": "text/x-python",
   "name": "python",
   "nbconvert_exporter": "python",
   "pygments_lexer": "ipython3",
   "version": "3.13.3"
  }
 },
 "nbformat": 4,
 "nbformat_minor": 5
}
