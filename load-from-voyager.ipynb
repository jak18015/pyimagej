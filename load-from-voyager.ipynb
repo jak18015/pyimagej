{
 "cells": [
  {
   "cell_type": "code",
   "execution_count": null,
   "id": "acf5834c",
   "metadata": {},
   "outputs": [],
   "source": [
    "# Install required packages in the current notebook environment\n",
    "%pip install numpy tifffile\n",
    "\n",
    "# Now import your modules\n",
    "import os\n",
    "import re\n",
    "import numpy as np\n",
    "from tifffile import imwrite, imread\n"
   ]
  },
  {
   "cell_type": "code",
   "execution_count": 9,
   "id": "774fce10",
   "metadata": {},
   "outputs": [
    {
     "name": "stdout",
     "output_type": "stream",
     "text": [
      "Saved: /Users/jkellerm/Library/CloudStorage/OneDrive-MichiganMedicine/0-active-projects/expansion/expansion_20250604_151747/plate1a2L1/stack_T1_F1_L1.tif\n"
     ]
    }
   ],
   "source": [
    "\n",
    "# Set your folder path\n",
    "path = '/Users/jkellerm/Library/CloudStorage/OneDrive-MichiganMedicine/0-active-projects/expansion/'\n",
    "folder = os.path.join(path, 'expansion_20250604_151747/plate1a2L1')\n",
    "\n",
    "# Regex to parse filenames\n",
    "pattern = re.compile(r\".*T(\\d{4})F(\\d{3})L(\\d{2})A(\\d{2})Z(\\d{2})C(\\d{2})\\.tif$\")\n",
    "\"\"\"\n",
    "T\tTime point index (tpIndex)\n",
    "F\tField of view index (fpIndex)\n",
    "L\tTile or stage position index (tlIndex)\n",
    "A\tAdditional position index (alIndex) (e.g., autofocus or acquisition round)\n",
    "Z\tZ-slice index (zpIndex)\n",
    "C\tChannel index (chIndex)\n",
    "\"\"\"\n",
    "# Find all files\n",
    "files = [f for f in os.listdir(folder) if f.endswith('.tif')]\n",
    "\n",
    "# Group images by T, F, L\n",
    "images = {}\n",
    "for fname in files:\n",
    "    match = pattern.match(fname)\n",
    "    if not match:\n",
    "        continue\n",
    "    t, f, l, a, z, c = map(int, match.groups())\n",
    "    key = (t, f, l)  # group by T, F, L\n",
    "    if key not in images:\n",
    "        images[key] = []\n",
    "    images[key].append((z, c, fname))\n",
    "\n",
    "# Sort images within each group\n",
    "for key, img_list in images.items():\n",
    "    img_list.sort()  # sort by z, then c\n",
    "    zs = sorted(set(z for z, c, _ in img_list))\n",
    "    cs = sorted(set(c for z, c, _ in img_list))\n",
    "\n",
    "    example_img = imread(os.path.join(folder, img_list[0][2]))\n",
    "    height, width = example_img.shape\n",
    "    stack = np.zeros((1, len(zs), len(cs), height, width), dtype=example_img.dtype)\n",
    "\n",
    "    for z, c, fname in img_list:\n",
    "        img = imread(os.path.join(folder, fname))\n",
    "        z_index = zs.index(z)\n",
    "        c_index = cs.index(c)\n",
    "        stack[0, z_index, c_index, :, :] = img\n",
    "\n",
    "    out_name = f\"stack_T{key[0]}_F{key[1]}_L{key[2]}.tif\"\n",
    "    out_path = os.path.join(folder, out_name)\n",
    "    imwrite(out_path, stack, imagej=True, metadata={'axes': 'TZCYX'})\n",
    "    print(f\"Saved: {out_path}\")\n"
   ]
  }
 ],
 "metadata": {
  "kernelspec": {
   "display_name": "pyimagej",
   "language": "python",
   "name": "python3"
  },
  "language_info": {
   "codemirror_mode": {
    "name": "ipython",
    "version": 3
   },
   "file_extension": ".py",
   "mimetype": "text/x-python",
   "name": "python",
   "nbconvert_exporter": "python",
   "pygments_lexer": "ipython3",
   "version": "3.13.3"
  }
 },
 "nbformat": 4,
 "nbformat_minor": 5
}
